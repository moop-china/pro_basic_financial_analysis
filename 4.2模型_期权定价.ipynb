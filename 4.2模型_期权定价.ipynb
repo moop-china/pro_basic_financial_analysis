{
 "cells": [
  {
   "cell_type": "markdown",
   "metadata": {},
   "source": [
    "我们在之前的教程中不断地使用了别人的包，其实我们也可以写出我们自己的“包”，这个教程就将揭开python包的秘密，让大家都知道我们用的模型背后是什么，我们怎么构建自己的模型。\n",
    "\n",
    "## 1 布莱克-舒尔斯模型简介\n",
    "\n",
    "布莱克-舒尔斯模型是经典的**期权定价模型**，简称BS模型，又称布莱克-舒尔斯-墨顿模型（Black–Scholes–Merton model），是一种为期权或权证等金融衍生工具定价的数学模型，由美国经济学家迈伦·舒尔斯与费雪·布莱克首先提出，并由罗伯特·C·墨顿修改模型于有派发股利时亦可使用而更完善。\n",
    "\n",
    "由此模型可以推导出布莱克-舒尔斯公式，并由此公式估算出欧式期权的理论价格。此公式问世后带来了期权市场的繁荣。该公式被广泛使用，虽然在很多情况下被使用者进行一定的改动和修正。很多经验测试表明这个公式足够贴近市场价格。1997年迈伦·舒尔斯和罗伯特·墨顿凭借该模型获得诺贝尔经济学奖。"
   ]
  },
  {
   "cell_type": "markdown",
   "metadata": {},
   "source": [
    "## 2 公式和python函数\n",
    "布莱克-舒尔斯模型假定在期权有效期内标的股票不派发股利。若派发股利需改用布萊克-休斯-墨頓模型，其公式如下： \n",
    "\n",
    "$$ \\displaystyle C = S \\times e^{-k \\times t} \\times N(D_1)-e^{-r \\times T} \\times L \\times N(D_2) $$\n",
    "\n",
    "其中：  \n",
    "\n",
    "$$D_1 =  \\frac{\\ln \\frac{S}{L} + \\left(r-k+0.5 \\times \\sigma^2 \\right) \\times{T}}{\\sigma \\times \\sqrt{T}} $$  \n",
    "\n",
    "$$ D_2 = D_1-\\sigma \\times \\sqrt{T} $$\n",
    "\n",
    "若不派发股利，则令k=0即可。"
   ]
  },
  {
   "cell_type": "markdown",
   "metadata": {},
   "source": [
    "参数解释：\n",
    "* $k$：表示标的股票的年股利收益率（假设股利连续支付，而不是离散分期支付）  \n",
    "* $ \\ln $：自然对数；  \n",
    "* $C$：期权初始合理价格；  \n",
    "* $L$：期权交割价格；  \n",
    "* $S$：所交易金融资产现价；  \n",
    "* $T$：期权有效期；  \n",
    "* $r$：连续复利计无风险利率Ｈ；  \n",
    "* $ \\sigma^2 $：年度化方差；  \n",
    "* $N()$：正态分布变量的累积概率分布函数。  "
   ]
  },
  {
   "cell_type": "markdown",
   "metadata": {},
   "source": [
    "## 3 实现这个模型\n",
    "\n",
    "首先还是引入需要的包"
   ]
  },
  {
   "cell_type": "code",
   "execution_count": 1,
   "metadata": {},
   "outputs": [],
   "source": [
    "from scipy import stats\n",
    "import math"
   ]
  },
  {
   "cell_type": "markdown",
   "metadata": {},
   "source": [
    "python的函数是重要的python功能，就像一个黑盒子，输入一些数字，就自动输出一些答案，就像数学中的函数一样，sin(x)会将输入x对应的三角函数值输出出来，在python中，函数拥有更复杂更加可自定义的功能。如果函数的参数过多过于复杂，通常我们会在函数名下面加上参数解释。\n",
    "\n",
    "有了函数，我们才能更方便地进行重复性的工作，而不必每次都重新写一遍。\n",
    "\n",
    "下面将用python实现BS模型的公式计算。"
   ]
  },
  {
   "cell_type": "code",
   "execution_count": 2,
   "metadata": {},
   "outputs": [],
   "source": [
    "def black_scholes (cp, s, l, t, v, rf, k):\n",
    "        \"\"\" Price an option using the Black-Scholes model.\n",
    "        s: initial stock price 所交易金融资产现价\n",
    "        l: strike price 期权交割价格\n",
    "        t: expiration time 期权有效期\n",
    "        v: volatility 年度化方差\n",
    "        rf: risk-free rate 连续复利计无风险利率\n",
    "        k: dividend 表示标的股票的年股利收益率（假设股利连续支付，而不是离散分期支付）\n",
    "        cp: +1/-1 for call/put\n",
    "        \"\"\"\n",
    "\n",
    "        d1 = (math.log(s/l)+(rf-k+0.5*math.pow(v,2))*t)/(v*math.sqrt(t))\n",
    "        d2 = d1 - v*math.sqrt(t)\n",
    "\n",
    "        optprice = (cp*s*math.exp(-k*t)*stats.norm.cdf(cp*d1)) - (cp*l*math.exp(-rf*t)*stats.norm.cdf(cp*d2))\n",
    "        return optprice"
   ]
  },
  {
   "cell_type": "markdown",
   "metadata": {},
   "source": [
    "## 4 使用的例子\n",
    "### 4.1\n",
    "设某不支付红利股股票的市价为50元，无风险利率为10%，该股票的年波动率为30%，求该股票协议价格为50元、期限3个月的欧式看跌期权价格。\n",
    "\n",
    "3个月换算成1/4年，所以输入0.25。"
   ]
  },
  {
   "cell_type": "code",
   "execution_count": 3,
   "metadata": {},
   "outputs": [
    {
     "data": {
      "text/plain": [
       "3.610445066084015"
      ]
     },
     "execution_count": 3,
     "metadata": {},
     "output_type": "execute_result"
    }
   ],
   "source": [
    "value = black_scholes(1, 50, 50, 0.25, 0.3, 0.1, 0)\n",
    "value"
   ]
  },
  {
   "cell_type": "markdown",
   "metadata": {},
   "source": [
    "### 4.2\n",
    "以股票为标的资产，期限为半年的期权，已知市场价为42，期权确定的执行价格为40，估计收益对数的波动性为20%，无风险资产的收益率是10%，分别计算以该期股票为标的资产的欧式买入和卖出期权的价格。"
   ]
  },
  {
   "cell_type": "code",
   "execution_count": 4,
   "metadata": {},
   "outputs": [
    {
     "data": {
      "text/plain": [
       "4.759422392871532"
      ]
     },
     "execution_count": 4,
     "metadata": {},
     "output_type": "execute_result"
    }
   ],
   "source": [
    "# 买入\n",
    "value = black_scholes(1, 42, 40, 0.5, 0.2, 0.1, 0)\n",
    "value"
   ]
  },
  {
   "cell_type": "code",
   "execution_count": 5,
   "metadata": {},
   "outputs": [
    {
     "data": {
      "text/plain": [
       "0.8085993729000922"
      ]
     },
     "execution_count": 5,
     "metadata": {},
     "output_type": "execute_result"
    }
   ],
   "source": [
    "# 卖出\n",
    "value = black_scholes(-1, 42, 40, 0.5, 0.2, 0.1, 0)\n",
    "value"
   ]
  },
  {
   "cell_type": "markdown",
   "metadata": {},
   "source": [
    "可以看出，就像调用别人的包一样，我们自己的“包”也可以被轻松调用。不过这里指的其实是一个函数，而别人的包是用很多函数组成的，不过他们的目的都是为了更为方便地进行编程。\n",
    "\n",
    "但是这上面还只是函数而已，如果想要写出完整的包，需要学习更多。"
   ]
  },
  {
   "cell_type": "code",
   "execution_count": null,
   "metadata": {},
   "outputs": [],
   "source": []
  }
 ],
 "metadata": {
  "kernelspec": {
   "display_name": "Python 3",
   "language": "python",
   "name": "python3"
  },
  "language_info": {
   "codemirror_mode": {
    "name": "ipython",
    "version": 3
   },
   "file_extension": ".py",
   "mimetype": "text/x-python",
   "name": "python",
   "nbconvert_exporter": "python",
   "pygments_lexer": "ipython3",
   "version": "3.7.1"
  }
 },
 "nbformat": 4,
 "nbformat_minor": 2
}
